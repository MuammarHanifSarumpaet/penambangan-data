{
 "cells": [
  {
   "cell_type": "code",
   "execution_count": 3,
   "metadata": {},
   "outputs": [],
   "source": [
    "import itertools\n",
    "import pandas as pd"
   ]
  },
  {
   "cell_type": "code",
   "execution_count": 4,
   "metadata": {},
   "outputs": [],
   "source": [
    "data = [\n",
    "    ['roti', 'selai', 'mentega'],\n",
    "    ['roti', 'mentega'],\n",
    "    ['roti', 'susu', 'mentega'],\n",
    "    ['coklat', 'roti', 'susu', 'mentega'],\n",
    "    ['coklat', 'susu']\n",
    "]"
   ]
  },
  {
   "cell_type": "code",
   "execution_count": 6,
   "metadata": {},
   "outputs": [],
   "source": [
    "def calculate_support(itemset, transactions):\n",
    "    count = sum(1 for transaction in transactions if itemset.issubset(transaction))\n",
    "    return count / len(transactions)"
   ]
  },
  {
   "cell_type": "code",
   "execution_count": 1,
   "metadata": {},
   "outputs": [],
   "source": [
    "min_support = 0.3\n",
    "min_confidence = 0.6"
   ]
  },
  {
   "cell_type": "code",
   "execution_count": 7,
   "metadata": {},
   "outputs": [],
   "source": [
    "def generate_candidates(itemsets, length):\n",
    "    return set([frozenset(i) for i in itertools.combinations(itemsets, length)])\n"
   ]
  },
  {
   "cell_type": "code",
   "execution_count": 8,
   "metadata": {},
   "outputs": [],
   "source": [
    "min_support = 0.3\n",
    "min_confidence = 0.6\n"
   ]
  },
  {
   "cell_type": "code",
   "execution_count": 9,
   "metadata": {},
   "outputs": [],
   "source": [
    "all_items = set(item for transaction in data for item in transaction)\n",
    "itemsets_1 = [frozenset([item]) for item in all_items]"
   ]
  },
  {
   "cell_type": "code",
   "execution_count": 10,
   "metadata": {},
   "outputs": [],
   "source": [
    "frequent_itemsets = []\n",
    "for itemset in itemsets_1:\n",
    "    support = calculate_support(itemset, transactions)\n",
    "    if support >= min_support:\n",
    "        frequent_itemsets.append((itemset, support))"
   ]
  },
  {
   "cell_type": "code",
   "execution_count": 11,
   "metadata": {},
   "outputs": [],
   "source": [
    "k = 2\n",
    "while True:\n",
    "    candidate_itemsets = generate_candidates([item for item, _ in frequent_itemsets], k)\n",
    "    current_frequent_itemsets = []\n",
    "\n",
    "    for candidate in candidate_itemsets:\n",
    "        support = calculate_support(candidate, transactions)\n",
    "        if support >= min_support:\n",
    "            current_frequent_itemsets.append((candidate, support))\n",
    "\n",
    "    if not current_frequent_itemsets:\n",
    "        break\n",
    "\n",
    "    frequent_itemsets.extend(current_frequent_itemsets)\n",
    "    k += 1"
   ]
  },
  {
   "cell_type": "code",
   "execution_count": 12,
   "metadata": {},
   "outputs": [],
   "source": [
    "def generate_association_rules(frequent_itemsets, min_confidence):\n",
    "    rules = []\n",
    "    for itemset, support in frequent_itemsets:\n",
    "        if len(itemset) > 1:\n",
    "            for antecedent_len in range(1, len(itemset)):\n",
    "                for antecedent in itertools.combinations(itemset, antecedent_len):\n",
    "                    antecedent = frozenset(antecedent)\n",
    "                    consequent = itemset - antecedent\n",
    "                    confidence = calculate_support(itemset, transactions) / calculate_support(antecedent, transactions)\n",
    "                    \n",
    "                    if confidence >= min_confidence:\n",
    "                        lift = confidence / calculate_support(consequent, transactions)\n",
    "                        rules.append((antecedent, consequent, support, confidence, lift))\n",
    "    return rules\n"
   ]
  },
  {
   "cell_type": "code",
   "execution_count": 15,
   "metadata": {},
   "outputs": [
    {
     "name": "stdout",
     "output_type": "stream",
     "text": [
      "Frequent Itemsets:\n",
      "{'mentega'}: Support = 0.80\n",
      "{'susu'}: Support = 0.60\n",
      "{'roti'}: Support = 0.80\n",
      "{'coklat'}: Support = 0.40\n",
      "\n",
      "Association Rules:\n"
     ]
    }
   ],
   "source": [
    "print(\"Frequent Itemsets:\")\n",
    "for itemset, support in frequent_itemsets:\n",
    "    print(f\"{set(itemset)}: Support = {support:.2f}\")\n",
    "\n",
    "rules = generate_association_rules(frequent_itemsets, min_confidence)\n",
    "\n",
    "print(\"\\nAssociation Rules:\")\n",
    "for antecedent, consequent, support, confidence, lift in rules:\n",
    "    print(f\"{set(antecedent)} -> {set(consequent)}: Support = {support:.2f}, Confidence = {confidence:.2f}, Lift = {lift:.2f}\")"
   ]
  }
 ],
 "metadata": {
  "kernelspec": {
   "display_name": "base",
   "language": "python",
   "name": "python3"
  },
  "language_info": {
   "codemirror_mode": {
    "name": "ipython",
    "version": 3
   },
   "file_extension": ".py",
   "mimetype": "text/x-python",
   "name": "python",
   "nbconvert_exporter": "python",
   "pygments_lexer": "ipython3",
   "version": "3.12.7"
  }
 },
 "nbformat": 4,
 "nbformat_minor": 2
}
