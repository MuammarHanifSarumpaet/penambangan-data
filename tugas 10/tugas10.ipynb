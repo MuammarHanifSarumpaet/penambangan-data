{
 "cells": [
  {
   "cell_type": "code",
   "execution_count": 8,
   "metadata": {},
   "outputs": [],
   "source": [
    "import numpy as np"
   ]
  },
  {
   "cell_type": "code",
   "execution_count": 9,
   "metadata": {},
   "outputs": [],
   "source": [
    "points = {\n",
    "    \"m1\": (1, 4.5),\n",
    "    \"m2\": (3, 6.5),\n",
    "    \"m3\": (4, 4.5),\n",
    "    \"m4\": (7.5, 3.2),\n",
    "    \"m5\": (6, 2.3),\n",
    "    \"m6\": (2.5, 3.8),\n",
    "    \"m7\": (5, 5.5)\n",
    "}"
   ]
  },
  {
   "cell_type": "code",
   "execution_count": 10,
   "metadata": {},
   "outputs": [],
   "source": [
    "centroids = {\n",
    "    \"c1\": (1, 4),\n",
    "    \"c2\": (3, 6.5),\n",
    "    \"c3\": (4, 4.5)\n",
    "}"
   ]
  },
  {
   "cell_type": "code",
   "execution_count": 11,
   "metadata": {},
   "outputs": [],
   "source": [
    "def euclidean_distance(point1, point2):\n",
    "    return np.sqrt((point1[0] - point2[0])**2 + (point1[1] - point2[1])**2)\n"
   ]
  },
  {
   "cell_type": "code",
   "execution_count": 12,
   "metadata": {},
   "outputs": [],
   "source": [
    "def assign_clusters(points, centroids):\n",
    "    clusters = {key: [] for key in centroids.keys()}\n",
    "    for point_name, point_coords in points.items():\n",
    "        distances = {centroid: euclidean_distance(point_coords, coords) for centroid, coords in centroids.items()}\n",
    "        nearest_centroid = min(distances, key=distances.get)\n",
    "        clusters[nearest_centroid].append(point_name)\n",
    "    return clusters\n"
   ]
  },
  {
   "cell_type": "code",
   "execution_count": 13,
   "metadata": {},
   "outputs": [],
   "source": [
    "clusters = assign_clusters(points, centroids)"
   ]
  },
  {
   "cell_type": "code",
   "execution_count": 14,
   "metadata": {},
   "outputs": [
    {
     "name": "stdout",
     "output_type": "stream",
     "text": [
      "Cluster c1: ['m1', 'm6']\n",
      "Cluster c2: ['m2']\n",
      "Cluster c3: ['m3', 'm4', 'm5', 'm7']\n"
     ]
    }
   ],
   "source": [
    "for cluster, members in clusters.items():\n",
    "    print(f\"Cluster {cluster}: {members}\")"
   ]
  }
 ],
 "metadata": {
  "kernelspec": {
   "display_name": "base",
   "language": "python",
   "name": "python3"
  },
  "language_info": {
   "codemirror_mode": {
    "name": "ipython",
    "version": 3
   },
   "file_extension": ".py",
   "mimetype": "text/x-python",
   "name": "python",
   "nbconvert_exporter": "python",
   "pygments_lexer": "ipython3",
   "version": "3.12.7"
  }
 },
 "nbformat": 4,
 "nbformat_minor": 2
}
